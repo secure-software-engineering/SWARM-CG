{
 "cells": [
  {
   "cell_type": "code",
   "execution_count": null,
   "source": [
    "# Cell - 1\n",
    "from pycg_external_module.ext import function"
   ],
   "outputs": [],
   "metadata": {}
  },
  {
   "cell_type": "code",
   "execution_count": null,
   "source": [
    "function()"
   ],
   "outputs": [],
   "metadata": {}
  }
 ],
 "metadata": {
  "orig_nbformat": 4,
  "language_info": {
   "name": "plaintext"
  }
 },
 "nbformat": 4,
 "nbformat_minor": 2
}