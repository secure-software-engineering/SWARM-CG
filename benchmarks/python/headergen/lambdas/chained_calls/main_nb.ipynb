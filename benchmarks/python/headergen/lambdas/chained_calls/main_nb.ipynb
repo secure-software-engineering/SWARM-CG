{
 "cells": [
  {
   "cell_type": "code",
   "execution_count": null,
   "source": [
    "# Cell - 1\n",
    "def func3(a):\n",
    "    a()"
   ],
   "outputs": [],
   "metadata": {}
  },
  {
   "cell_type": "code",
   "execution_count": null,
   "source": [
    "# Cell - 2\n",
    "def func2(a, b):\n",
    "    a()\n",
    "    func3(b)"
   ],
   "outputs": [],
   "metadata": {}
  },
  {
   "cell_type": "code",
   "execution_count": null,
   "source": [
    "# Cell - 3\n",
    "def func1(a, b, c):\n",
    "    a()\n",
    "    func2(b, c)"
   ],
   "outputs": [],
   "metadata": {}
  },
  {
   "cell_type": "code",
   "execution_count": null,
   "source": [
    "# Cell - 4\n",
    "func1(lambda x: x + 1, lambda x: x + 2, lambda x: x + 3)"
   ],
   "outputs": [],
   "metadata": {}
  }
 ],
 "metadata": {
  "orig_nbformat": 4,
  "language_info": {
   "name": "plaintext"
  }
 },
 "nbformat": 4,
 "nbformat_minor": 2
}