{
 "cells": [
  {
   "cell_type": "code",
   "execution_count": null,
   "source": [
    "# Cell - 1\n",
    "from random import randint\n",
    "def func1():\n",
    "    pass"
   ],
   "outputs": [],
   "metadata": {}
  },
  {
   "cell_type": "code",
   "execution_count": null,
   "source": [
    "# Cell - 2\n",
    "def func2():\n",
    "    pass"
   ],
   "outputs": [],
   "metadata": {}
  },
  {
   "cell_type": "code",
   "execution_count": null,
   "source": [
    "# Cell - 3\n",
    "if randint(0,1):\n",
    "    a = func1\n",
    "else:\n",
    "    a = func2"
   ],
   "outputs": [],
   "metadata": {}
  },
  {
   "cell_type": "code",
   "execution_count": null,
   "source": [
    "# Cell - 4\n",
    "a()"
   ],
   "outputs": [],
   "metadata": {}
  }
 ],
 "metadata": {
  "orig_nbformat": 4,
  "language_info": {
   "name": "plaintext"
  }
 },
 "nbformat": 4,
 "nbformat_minor": 2
}