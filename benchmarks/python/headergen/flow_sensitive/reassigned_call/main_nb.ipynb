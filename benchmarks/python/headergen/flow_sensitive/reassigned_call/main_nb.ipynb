{
 "cells": [
  {
   "cell_type": "code",
   "execution_count": null,
   "id": "6993377a",
   "metadata": {},
   "outputs": [],
   "source": [
    "# Cell - 1\n",
    "def param_func():\n",
    "    pass"
   ]
  },
  {
   "cell_type": "code",
   "execution_count": null,
   "id": "1aa02798",
   "metadata": {},
   "outputs": [],
   "source": [
    "# Cell - 2\n",
    "def func(a):\n",
    "    a()"
   ]
  },
  {
   "cell_type": "code",
   "execution_count": null,
   "id": "712898f0",
   "metadata": {
    "pycharm": {
     "name": "#%%\n"
    }
   },
   "outputs": [],
   "source": [
    "# Cell - 3\n",
    "b = param_func\n",
    "func(b)"
   ]
  }
 ],
 "metadata": {
  "kernelspec": {
   "display_name": "Python 3",
   "language": "python",
   "name": "python3"
  },
  "language_info": {
   "codemirror_mode": {
    "name": "ipython",
    "version": 3
   },
   "file_extension": ".py",
   "mimetype": "text/x-python",
   "name": "python",
   "nbconvert_exporter": "python",
   "pygments_lexer": "ipython3",
   "version": "3.9.9"
  }
 },
 "nbformat": 4,
 "nbformat_minor": 5
}
