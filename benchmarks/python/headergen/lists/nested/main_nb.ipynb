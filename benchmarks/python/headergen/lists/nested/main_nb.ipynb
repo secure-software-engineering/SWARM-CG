{
 "cells": [
  {
   "cell_type": "code",
   "execution_count": null,
   "source": [
    "# Cell - 1\n",
    "def func1():\n",
    "    pass"
   ],
   "outputs": [],
   "metadata": {}
  },
  {
   "cell_type": "code",
   "execution_count": null,
   "source": [
    "# Cell - 2\n",
    "def func2():\n",
    "    pass"
   ],
   "outputs": [],
   "metadata": {}
  },
  {
   "cell_type": "code",
   "execution_count": null,
   "source": [
    "# Cell - 3\n",
    "ls = [[func1], func2]\n",
    "ls[0][0]()"
   ],
   "outputs": [],
   "metadata": {}
  }
 ],
 "metadata": {
  "orig_nbformat": 4,
  "language_info": {
   "name": "plaintext"
  }
 },
 "nbformat": 4,
 "nbformat_minor": 2
}