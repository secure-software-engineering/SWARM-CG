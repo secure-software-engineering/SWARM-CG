{
 "cells": [
  {
   "cell_type": "code",
   "execution_count": null,
   "source": [
    "# Cell - 1\n",
    "class A:\n",
    "    def func(self):\n",
    "        pass"
   ],
   "outputs": [],
   "metadata": {}
  },
  {
   "cell_type": "code",
   "execution_count": null,
   "source": [
    "# Cell - 2\n",
    "class B:\n",
    "    def __init__(self, a):\n",
    "        self.a = a\n",
    "\n",
    "    def func(self):\n",
    "        self.a.func()"
   ],
   "outputs": [],
   "metadata": {}
  },
  {
   "cell_type": "code",
   "execution_count": null,
   "source": [
    "# Cell - 3\n",
    "a = A()"
   ],
   "outputs": [],
   "metadata": {}
  },
  {
   "cell_type": "code",
   "execution_count": null,
   "source": [
    "# Cell - 4\n",
    "b = B(a)"
   ],
   "outputs": [],
   "metadata": {}
  },
  {
   "cell_type": "code",
   "execution_count": null,
   "source": [
    "# Cell - 5\n",
    "b.func()"
   ],
   "outputs": [],
   "metadata": {}
  }
 ],
 "metadata": {
  "orig_nbformat": 4,
  "language_info": {
   "name": "plaintext"
  }
 },
 "nbformat": 4,
 "nbformat_minor": 2
}