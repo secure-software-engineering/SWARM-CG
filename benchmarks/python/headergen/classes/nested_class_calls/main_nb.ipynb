{
 "cells": [
  {
   "cell_type": "code",
   "execution_count": null,
   "source": [
    "# Cell - 1\n",
    "class C:\n",
    "    def func(self):\n",
    "        pass"
   ],
   "outputs": [],
   "metadata": {}
  },
  {
   "cell_type": "code",
   "execution_count": null,
   "source": [
    "# Cell - 2\n",
    "class B:\n",
    "    def __init__(self, c):\n",
    "        self.c = c\n",
    "\n",
    "    def func(self):\n",
    "        self.c.func()"
   ],
   "outputs": [],
   "metadata": {}
  },
  {
   "cell_type": "code",
   "execution_count": null,
   "source": [
    "# Cell - 3\n",
    "class A:\n",
    "    def __init__(self):\n",
    "        self.c = C()\n",
    "\n",
    "    def func(self):\n",
    "        b = B(self.c)\n",
    "        b.func()"
   ],
   "outputs": [],
   "metadata": {}
  },
  {
   "cell_type": "code",
   "execution_count": null,
   "source": [
    "# Cell - 4\n",
    "a = A()\n",
    "a.func()"
   ],
   "outputs": [],
   "metadata": {}
  }
 ],
 "metadata": {
  "orig_nbformat": 4,
  "language_info": {
   "name": "plaintext"
  }
 },
 "nbformat": 4,
 "nbformat_minor": 2
}